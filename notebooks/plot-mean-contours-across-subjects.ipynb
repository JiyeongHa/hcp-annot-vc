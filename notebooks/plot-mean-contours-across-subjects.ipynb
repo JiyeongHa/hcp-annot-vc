{
 "cells": [
  {
   "cell_type": "code",
   "execution_count": 54,
   "metadata": {
    "pycharm": {
     "name": "#%%\n"
    }
   },
   "outputs": [],
   "source": [
    "# The cache directories:\n",
    "cache_path       = '/data/crcns2021'\n",
    "image_cache_path = f'{cache_path}/annot-images'\n",
    "v123_cache_path  = f'{cache_path}/annot-v123'\n",
    "csulc_cache_path = f'{cache_path}/annot-csulc'\n",
    "trace_save_path = f'{cache_path}/results/data_branch/save'\n",
    "labels_path = f'{cache_path}/results/labels'\n",
    "\n",
    "import os\n",
    "# If you aren't using /data\n",
    "os.environ['HCPANNOT_LOAD_PATH'] = cache_path"
   ]
  },
  {
   "cell_type": "code",
   "execution_count": 55,
   "metadata": {
    "pycharm": {
     "name": "#%%\n"
    }
   },
   "outputs": [
    {
     "name": "stdout",
     "output_type": "stream",
     "text": [
      "The autoreload extension is already loaded. To reload it, use:\n",
      "  %reload_ext autoreload\n"
     ]
    }
   ],
   "source": [
    "import os \n",
    "import sys\n",
    "sys.path.append('..')\n",
    "import numpy as np\n",
    "import neuropythy as ny\n",
    "import matplotlib.pyplot as plt\n",
    "%matplotlib inline\n",
    "%load_ext autoreload\n",
    "%autoreload 2"
   ]
  },
  {
   "cell_type": "code",
   "execution_count": 88,
   "metadata": {
    "pycharm": {
     "name": "#%%\n"
    }
   },
   "outputs": [
    {
     "ename": "SyntaxError",
     "evalue": "positional argument follows keyword argument unpacking (289588141.py, line 7)",
     "output_type": "error",
     "traceback": [
      "\u001b[0;36m  File \u001b[0;32m\"/tmp/ipykernel_20907/289588141.py\"\u001b[0;36m, line \u001b[0;32m7\u001b[0m\n\u001b[0;31m    mpl.rc('font', **font_data, 'text', usetex=True)\u001b[0m\n\u001b[0m                                ^\u001b[0m\n\u001b[0;31mSyntaxError\u001b[0m\u001b[0;31m:\u001b[0m positional argument follows keyword argument unpacking\n"
     ]
    }
   ],
   "source": [
    "import matplotlib as mpl\n",
    "# Additional matplotlib preferences:\n",
    "font_data = {'size': 10,\n",
    "             'weight': 'light',\n",
    "             'family':'sans-serif',\n",
    "             'sans-serif':['Helvetica']} # missing fonts \n",
    "mpl.rc('font', **font_data) \n",
    "mpl.rc('text', usetex=True)\n",
    "# we want relatively high-res images, especially when saving to disk.\n",
    "mpl.rcParams['figure.dpi'] = 72 * 2\n",
    "mpl.rcParams['savefig.dpi'] = 72 * 4"
   ]
  },
  {
   "cell_type": "code",
   "execution_count": 57,
   "metadata": {},
   "outputs": [],
   "source": [
    "# Now we can import the hcp-annot-vc library.\n",
    "import hcpannot\n",
    "hcpannot.interface.default_load_path = cache_path  \n",
    "from hcpannot import (vc_plan, \n",
    "                      save_contours, \n",
    "                      load_contours)\n"
   ]
  },
  {
   "cell_type": "code",
   "execution_count": 58,
   "metadata": {},
   "outputs": [],
   "source": [
    "rater1 = 'BrendaQiu'\n",
    "rater2 = 'JiyeongHa'\n",
    "sid1 = 111312\n",
    "sid2 = 102311"
   ]
  },
  {
   "cell_type": "markdown",
   "metadata": {},
   "source": [
    "## Helper functions for plotting mean contours across subjects"
   ]
  },
  {
   "cell_type": "code",
   "execution_count": 70,
   "metadata": {},
   "outputs": [],
   "source": [
    "def roi_trace_to_path(dat, subject, roi, hemi):\n",
    "    # grab a trace\n",
    "    trace = dat['traces'][roi]\n",
    "    # get the subject's hemisphere mesh\n",
    "    hemi_surf = ny.data['hcp_lines'].subjects[subject].hemis[hemi]\n",
    "    path = trace.to_path(hemi_surf)\n",
    "    return path\n",
    "    \n",
    "def get_path_coords_in_fsaverage(path, hemi):\n",
    "    fmap = ny.to_flatmap('occipital_pole', hemi)\n",
    "    fsa_coords = fmap.unaddress(path.addresses)\n",
    "    return fsa_coords\n",
    "\n",
    "def _normalize_coords(fsa_coords, n_points=800):\n",
    "    curve = ny.util.CurveSpline(fsa_coords)\n",
    "    normed_fsa_coords = curve.linspace(n_points)\n",
    "    return normed_fsa_coords\n",
    "\n",
    "def normalize_multiple_coords(fsa_coords_list, fsa_coords_key_list=None, n_points=800, avgerage=True):\n",
    "    if fsa_coords_key_list is None:\n",
    "        fsa_coords_key_list = np.range(0, len(fsa_coords_list))\n",
    "    tmp = []\n",
    "    for fsa_coords in fsa_coords_list:\n",
    "        tmp.append(_normalize_coords(fsa_coords, n_points))\n",
    "    normed_fsa_coords = dict(zip(fsa_coords_key_list, tmp))\n",
    "    \n",
    "    if average is True:\n",
    "        normed_fsa_coords['avg'] = np.mean(tmp, axis=0)\n",
    "    return normed_fsa_coords\n",
    "\n",
    "def plot_mean_contours_across_subjects(rater, roi, subject_list, hemi, n_points=800, trace_save_path=None):\n",
    "    fsa_coords_list = []\n",
    "    for sid in subject_list:\n",
    "        dat = vc_plan(rater=rater, sid=sid, hemisphere=hemi, save_path=trace_save_path)\n",
    "        path = roi_trace_to_path(dat, sid, roi, hemi)\n",
    "        fsa_coords += get_path_coords_in_fsaverage(path, hemi)\n",
    "    normed_fsa_coords_list = normalize_multiple_coords(fsa_coords_list, \n",
    "                                                       fsa_coords_key_list=subject_list, \n",
    "                                                       n_points, \n",
    "                                                       avgerage=True)\n",
    "    return normed_fsa_coords_list\n"
   ]
  },
  {
   "cell_type": "markdown",
   "metadata": {},
   "source": [
    "## Plot functions"
   ]
  },
  {
   "cell_type": "code",
   "execution_count": null,
   "metadata": {},
   "outputs": [],
   "source": [
    "def plot_multiple_traces(normed_fsa_coords):\n",
    "    fig, ax = plt.subplots(1,1)\n",
    "    for k, fsa_coords in normed_fsa_coords.items():\n",
    "        (x,y) = fsa_coords\n",
    "        ax.plot(x,y, label=k)\n",
    "    plt.legend(loc='best')"
   ]
  },
  {
   "cell_type": "markdown",
   "metadata": {},
   "source": [
    "## for savings.."
   ]
  },
  {
   "cell_type": "code",
   "execution_count": 82,
   "metadata": {},
   "outputs": [],
   "source": [
    "ny.save(f'{sid1}_{rater1}_fsacoords.mgz', fsa_normalized_coords1)\n",
    "    "
   ]
  }
 ],
 "metadata": {
  "kernelspec": {
   "display_name": "base",
   "language": "python",
   "name": "base"
  },
  "language_info": {
   "codemirror_mode": {
    "name": "ipython",
    "version": 3
   },
   "file_extension": ".py",
   "mimetype": "text/x-python",
   "name": "python",
   "nbconvert_exporter": "python",
   "pygments_lexer": "ipython3",
   "version": "3.8.13"
  }
 },
 "nbformat": 4,
 "nbformat_minor": 1
}
