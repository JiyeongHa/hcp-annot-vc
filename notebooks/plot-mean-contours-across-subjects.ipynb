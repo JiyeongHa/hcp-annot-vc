{
 "cells": [
  {
   "cell_type": "code",
   "execution_count": 4,
   "outputs": [
    {
     "ename": "OSError",
     "evalue": "[Errno 30] Read-only file system: '/data'",
     "output_type": "error",
     "traceback": [
      "\u001B[0;31m---------------------------------------------------------------------------\u001B[0m",
      "\u001B[0;31mOSError\u001B[0m                                   Traceback (most recent call last)",
      "\u001B[0;32m/var/folders/dc/rp0klyw131l30jr45p7_7gnnnl2r2_/T/ipykernel_73050/2258764661.py\u001B[0m in \u001B[0;36m<module>\u001B[0;34m\u001B[0m\n\u001B[1;32m      5\u001B[0m \u001B[0;32mimport\u001B[0m \u001B[0mmatplotlib\u001B[0m \u001B[0;32mas\u001B[0m \u001B[0mmpl\u001B[0m\u001B[0;34m\u001B[0m\u001B[0;34m\u001B[0m\u001B[0m\n\u001B[1;32m      6\u001B[0m \u001B[0;32mimport\u001B[0m \u001B[0mmatplotlib\u001B[0m\u001B[0;34m.\u001B[0m\u001B[0mpyplot\u001B[0m \u001B[0;32mas\u001B[0m \u001B[0mplt\u001B[0m\u001B[0;34m\u001B[0m\u001B[0;34m\u001B[0m\u001B[0m\n\u001B[0;32m----> 7\u001B[0;31m \u001B[0;32mimport\u001B[0m \u001B[0mhcpannot\u001B[0m\u001B[0;34m\u001B[0m\u001B[0;34m\u001B[0m\u001B[0m\n\u001B[0m\u001B[1;32m      8\u001B[0m \u001B[0mget_ipython\u001B[0m\u001B[0;34m(\u001B[0m\u001B[0;34m)\u001B[0m\u001B[0;34m.\u001B[0m\u001B[0mrun_line_magic\u001B[0m\u001B[0;34m(\u001B[0m\u001B[0;34m'matplotlib'\u001B[0m\u001B[0;34m,\u001B[0m \u001B[0;34m'inline'\u001B[0m\u001B[0;34m)\u001B[0m\u001B[0;34m\u001B[0m\u001B[0;34m\u001B[0m\u001B[0m\n\u001B[1;32m      9\u001B[0m \u001B[0mget_ipython\u001B[0m\u001B[0;34m(\u001B[0m\u001B[0;34m)\u001B[0m\u001B[0;34m.\u001B[0m\u001B[0mrun_line_magic\u001B[0m\u001B[0;34m(\u001B[0m\u001B[0;34m'load_ext'\u001B[0m\u001B[0;34m,\u001B[0m \u001B[0;34m'autoreload'\u001B[0m\u001B[0;34m)\u001B[0m\u001B[0;34m\u001B[0m\u001B[0;34m\u001B[0m\u001B[0m\n",
      "\u001B[0;32m~/Documents/Github/hcp-annot-vc/hcpannot/__init__.py\u001B[0m in \u001B[0;36m<module>\u001B[0;34m\u001B[0m\n\u001B[1;32m     11\u001B[0m                    \u001B[0mplot_vmbound\u001B[0m\u001B[0;34m,\u001B[0m \u001B[0mplot_as_image\u001B[0m\u001B[0;34m,\u001B[0m \u001B[0mop_flatmap\u001B[0m\u001B[0;34m,\u001B[0m \u001B[0mplot_isoang\u001B[0m\u001B[0;34m,\u001B[0m\u001B[0;34m\u001B[0m\u001B[0;34m\u001B[0m\u001B[0m\n\u001B[1;32m     12\u001B[0m                    plot_isoecc, generate_images, label_to_segs)\n\u001B[0;32m---> 13\u001B[0;31m from .interface import (subject_ids, subject_data, ROITool,\n\u001B[0m\u001B[1;32m     14\u001B[0m                         imgrid_to_flatmap, flatmap_to_imgrid)\n\u001B[1;32m     15\u001B[0m from .analysis import (vc_plan, to_data_path, save_contours, load_contours,\n",
      "\u001B[0;32m~/Documents/Github/hcp-annot-vc/hcpannot/interface.py\u001B[0m in \u001B[0;36m<module>\u001B[0;34m\u001B[0m\n\u001B[1;32m    354\u001B[0m         for h in ['lh','rh']}\n\u001B[1;32m    355\u001B[0m     \u001B[0;32mreturn\u001B[0m \u001B[0mpyr\u001B[0m\u001B[0;34m.\u001B[0m\u001B[0mpmap\u001B[0m\u001B[0;34m(\u001B[0m\u001B[0mims\u001B[0m\u001B[0;34m)\u001B[0m\u001B[0;34m\u001B[0m\u001B[0;34m\u001B[0m\u001B[0m\n\u001B[0;32m--> 356\u001B[0;31m \u001B[0mlegend_data\u001B[0m \u001B[0;34m=\u001B[0m \u001B[0mprep_legends\u001B[0m\u001B[0;34m(\u001B[0m\u001B[0;34m)\u001B[0m\u001B[0;34m\u001B[0m\u001B[0;34m\u001B[0m\u001B[0m\n\u001B[0m\u001B[1;32m    357\u001B[0m \u001B[0;34m\u001B[0m\u001B[0m\n\u001B[1;32m    358\u001B[0m \u001B[0;34m\u001B[0m\u001B[0m\n",
      "\u001B[0;32m~/Documents/Github/hcp-annot-vc/hcpannot/interface.py\u001B[0m in \u001B[0;36mprep_legends\u001B[0;34m(load_path, osf_url)\u001B[0m\n\u001B[1;32m    346\u001B[0m         \u001B[0;32mimport\u001B[0m \u001B[0mtarfile\u001B[0m\u001B[0;34m\u001B[0m\u001B[0;34m\u001B[0m\u001B[0m\n\u001B[1;32m    347\u001B[0m         \u001B[0;32mwith\u001B[0m \u001B[0mtarfile\u001B[0m\u001B[0;34m.\u001B[0m\u001B[0mopen\u001B[0m\u001B[0;34m(\u001B[0m\u001B[0mpath\u001B[0m\u001B[0;34m)\u001B[0m \u001B[0;32mas\u001B[0m \u001B[0mfl\u001B[0m\u001B[0;34m:\u001B[0m\u001B[0;34m\u001B[0m\u001B[0;34m\u001B[0m\u001B[0m\n\u001B[0;32m--> 348\u001B[0;31m             \u001B[0mfl\u001B[0m\u001B[0;34m.\u001B[0m\u001B[0mextractall\u001B[0m\u001B[0;34m(\u001B[0m\u001B[0mload_path\u001B[0m\u001B[0;34m)\u001B[0m\u001B[0;34m\u001B[0m\u001B[0;34m\u001B[0m\u001B[0m\n\u001B[0m\u001B[1;32m    349\u001B[0m     ims = {\n\u001B[1;32m    350\u001B[0m         h: pimms.lmap(\n",
      "\u001B[0;32m~/opt/miniconda3/envs/sfp/lib/python3.7/tarfile.py\u001B[0m in \u001B[0;36mextractall\u001B[0;34m(self, path, members, numeric_owner)\u001B[0m\n\u001B[1;32m   2000\u001B[0m             \u001B[0;31m# Do not set_attrs directories, as we will do that further down\u001B[0m\u001B[0;34m\u001B[0m\u001B[0;34m\u001B[0m\u001B[0;34m\u001B[0m\u001B[0m\n\u001B[1;32m   2001\u001B[0m             self.extract(tarinfo, path, set_attrs=not tarinfo.isdir(),\n\u001B[0;32m-> 2002\u001B[0;31m                          numeric_owner=numeric_owner)\n\u001B[0m\u001B[1;32m   2003\u001B[0m \u001B[0;34m\u001B[0m\u001B[0m\n\u001B[1;32m   2004\u001B[0m         \u001B[0;31m# Reverse sort directories.\u001B[0m\u001B[0;34m\u001B[0m\u001B[0;34m\u001B[0m\u001B[0;34m\u001B[0m\u001B[0m\n",
      "\u001B[0;32m~/opt/miniconda3/envs/sfp/lib/python3.7/tarfile.py\u001B[0m in \u001B[0;36mextract\u001B[0;34m(self, member, path, set_attrs, numeric_owner)\u001B[0m\n\u001B[1;32m   2042\u001B[0m             self._extract_member(tarinfo, os.path.join(path, tarinfo.name),\n\u001B[1;32m   2043\u001B[0m                                  \u001B[0mset_attrs\u001B[0m\u001B[0;34m=\u001B[0m\u001B[0mset_attrs\u001B[0m\u001B[0;34m,\u001B[0m\u001B[0;34m\u001B[0m\u001B[0;34m\u001B[0m\u001B[0m\n\u001B[0;32m-> 2044\u001B[0;31m                                  numeric_owner=numeric_owner)\n\u001B[0m\u001B[1;32m   2045\u001B[0m         \u001B[0;32mexcept\u001B[0m \u001B[0mOSError\u001B[0m \u001B[0;32mas\u001B[0m \u001B[0me\u001B[0m\u001B[0;34m:\u001B[0m\u001B[0;34m\u001B[0m\u001B[0;34m\u001B[0m\u001B[0m\n\u001B[1;32m   2046\u001B[0m             \u001B[0;32mif\u001B[0m \u001B[0mself\u001B[0m\u001B[0;34m.\u001B[0m\u001B[0merrorlevel\u001B[0m \u001B[0;34m>\u001B[0m \u001B[0;36m0\u001B[0m\u001B[0;34m:\u001B[0m\u001B[0;34m\u001B[0m\u001B[0;34m\u001B[0m\u001B[0m\n",
      "\u001B[0;32m~/opt/miniconda3/envs/sfp/lib/python3.7/tarfile.py\u001B[0m in \u001B[0;36m_extract_member\u001B[0;34m(self, tarinfo, targetpath, set_attrs, numeric_owner)\u001B[0m\n\u001B[1;32m   2104\u001B[0m             \u001B[0;31m# Create directories that are not part of the archive with\u001B[0m\u001B[0;34m\u001B[0m\u001B[0;34m\u001B[0m\u001B[0;34m\u001B[0m\u001B[0m\n\u001B[1;32m   2105\u001B[0m             \u001B[0;31m# default permissions.\u001B[0m\u001B[0;34m\u001B[0m\u001B[0;34m\u001B[0m\u001B[0;34m\u001B[0m\u001B[0m\n\u001B[0;32m-> 2106\u001B[0;31m             \u001B[0mos\u001B[0m\u001B[0;34m.\u001B[0m\u001B[0mmakedirs\u001B[0m\u001B[0;34m(\u001B[0m\u001B[0mupperdirs\u001B[0m\u001B[0;34m)\u001B[0m\u001B[0;34m\u001B[0m\u001B[0;34m\u001B[0m\u001B[0m\n\u001B[0m\u001B[1;32m   2107\u001B[0m \u001B[0;34m\u001B[0m\u001B[0m\n\u001B[1;32m   2108\u001B[0m         \u001B[0;32mif\u001B[0m \u001B[0mtarinfo\u001B[0m\u001B[0;34m.\u001B[0m\u001B[0mislnk\u001B[0m\u001B[0;34m(\u001B[0m\u001B[0;34m)\u001B[0m \u001B[0;32mor\u001B[0m \u001B[0mtarinfo\u001B[0m\u001B[0;34m.\u001B[0m\u001B[0missym\u001B[0m\u001B[0;34m(\u001B[0m\u001B[0;34m)\u001B[0m\u001B[0;34m:\u001B[0m\u001B[0;34m\u001B[0m\u001B[0;34m\u001B[0m\u001B[0m\n",
      "\u001B[0;32m~/opt/miniconda3/envs/sfp/lib/python3.7/os.py\u001B[0m in \u001B[0;36mmakedirs\u001B[0;34m(name, mode, exist_ok)\u001B[0m\n\u001B[1;32m    211\u001B[0m     \u001B[0;32mif\u001B[0m \u001B[0mhead\u001B[0m \u001B[0;32mand\u001B[0m \u001B[0mtail\u001B[0m \u001B[0;32mand\u001B[0m \u001B[0;32mnot\u001B[0m \u001B[0mpath\u001B[0m\u001B[0;34m.\u001B[0m\u001B[0mexists\u001B[0m\u001B[0;34m(\u001B[0m\u001B[0mhead\u001B[0m\u001B[0;34m)\u001B[0m\u001B[0;34m:\u001B[0m\u001B[0;34m\u001B[0m\u001B[0;34m\u001B[0m\u001B[0m\n\u001B[1;32m    212\u001B[0m         \u001B[0;32mtry\u001B[0m\u001B[0;34m:\u001B[0m\u001B[0;34m\u001B[0m\u001B[0;34m\u001B[0m\u001B[0m\n\u001B[0;32m--> 213\u001B[0;31m             \u001B[0mmakedirs\u001B[0m\u001B[0;34m(\u001B[0m\u001B[0mhead\u001B[0m\u001B[0;34m,\u001B[0m \u001B[0mexist_ok\u001B[0m\u001B[0;34m=\u001B[0m\u001B[0mexist_ok\u001B[0m\u001B[0;34m)\u001B[0m\u001B[0;34m\u001B[0m\u001B[0;34m\u001B[0m\u001B[0m\n\u001B[0m\u001B[1;32m    214\u001B[0m         \u001B[0;32mexcept\u001B[0m \u001B[0mFileExistsError\u001B[0m\u001B[0;34m:\u001B[0m\u001B[0;34m\u001B[0m\u001B[0;34m\u001B[0m\u001B[0m\n\u001B[1;32m    215\u001B[0m             \u001B[0;31m# Defeats race condition when another thread created the path\u001B[0m\u001B[0;34m\u001B[0m\u001B[0;34m\u001B[0m\u001B[0;34m\u001B[0m\u001B[0m\n",
      "\u001B[0;32m~/opt/miniconda3/envs/sfp/lib/python3.7/os.py\u001B[0m in \u001B[0;36mmakedirs\u001B[0;34m(name, mode, exist_ok)\u001B[0m\n\u001B[1;32m    221\u001B[0m             \u001B[0;32mreturn\u001B[0m\u001B[0;34m\u001B[0m\u001B[0;34m\u001B[0m\u001B[0m\n\u001B[1;32m    222\u001B[0m     \u001B[0;32mtry\u001B[0m\u001B[0;34m:\u001B[0m\u001B[0;34m\u001B[0m\u001B[0;34m\u001B[0m\u001B[0m\n\u001B[0;32m--> 223\u001B[0;31m         \u001B[0mmkdir\u001B[0m\u001B[0;34m(\u001B[0m\u001B[0mname\u001B[0m\u001B[0;34m,\u001B[0m \u001B[0mmode\u001B[0m\u001B[0;34m)\u001B[0m\u001B[0;34m\u001B[0m\u001B[0;34m\u001B[0m\u001B[0m\n\u001B[0m\u001B[1;32m    224\u001B[0m     \u001B[0;32mexcept\u001B[0m \u001B[0mOSError\u001B[0m\u001B[0;34m:\u001B[0m\u001B[0;34m\u001B[0m\u001B[0;34m\u001B[0m\u001B[0m\n\u001B[1;32m    225\u001B[0m         \u001B[0;31m# Cannot rely on checking for EEXIST, since the operating system\u001B[0m\u001B[0;34m\u001B[0m\u001B[0;34m\u001B[0m\u001B[0;34m\u001B[0m\u001B[0m\n",
      "\u001B[0;31mOSError\u001B[0m: [Errno 30] Read-only file system: '/data'"
     ]
    }
   ],
   "source": [
    "import os, sys, pimms, pandas, warnings, urllib, datetime\n",
    "sys.path.append('..')\n",
    "import numpy as np\n",
    "import neuropythy as ny\n",
    "import matplotlib as mpl\n",
    "import matplotlib.pyplot as plt\n",
    "import hcpannot\n",
    "%matplotlib inline\n",
    "%load_ext autoreload\n",
    "%autoreload 2"
   ],
   "metadata": {
    "collapsed": false,
    "pycharm": {
     "name": "#%%\n"
    }
   }
  },
  {
   "cell_type": "code",
   "execution_count": 3,
   "outputs": [],
   "source": [
    "# The cache directories:\n",
    "cache_path       = '/data/crcns2021'\n",
    "image_cache_path = f'{cache_path}/annot-images'\n",
    "v123_cache_path  = f'{cache_path}/annot-v123'\n",
    "csulc_cache_path = f'{cache_path}/annot-csulc'\n",
    "trace_save_path = f'{cache_path}/results/data_branch/save'\n",
    "labels_path = f'{cache_path}/results/labels'\n",
    "\n",
    "import os\n",
    "# If you aren't using /data\n",
    "os.environ['HCPANNOT_LOAD_PATH'] = cache_path"
   ],
   "metadata": {
    "collapsed": false,
    "pycharm": {
     "name": "#%%\n"
    }
   }
  },
  {
   "cell_type": "code",
   "execution_count": null,
   "outputs": [],
   "source": [
    "# Additional matplotlib preferences:\n",
    "font_data = {'family': 'sans-serif',\n",
    "             'sans-serif': ['HelveticaNeue', 'Helvetica', 'Arial'],\n",
    "             'size': 10,\n",
    "             'weight': 'light'}\n",
    "mpl.rc('font', **font_data)\n",
    "# we want relatively high-res images, especially when saving to disk.\n",
    "mpl.rcParams['figure.dpi'] = 72 * 2\n",
    "mpl.rcParams['savefig.dpi'] = 72 * 4"
   ],
   "metadata": {
    "collapsed": false,
    "pycharm": {
     "name": "#%%\n"
    }
   }
  }
 ],
 "metadata": {
  "kernelspec": {
   "display_name": "Python 3",
   "language": "python",
   "name": "python3"
  },
  "language_info": {
   "codemirror_mode": {
    "name": "ipython",
    "version": 2
   },
   "file_extension": ".py",
   "mimetype": "text/x-python",
   "name": "python",
   "nbconvert_exporter": "python",
   "pygments_lexer": "ipython2",
   "version": "2.7.6"
  }
 },
 "nbformat": 4,
 "nbformat_minor": 0
}