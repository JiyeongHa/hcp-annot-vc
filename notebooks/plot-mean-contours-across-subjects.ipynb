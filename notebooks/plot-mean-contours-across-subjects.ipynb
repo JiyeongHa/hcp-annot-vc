{
 "cells": [
  {
   "cell_type": "code",
   "execution_count": 1,
   "metadata": {
    "pycharm": {
     "name": "#%%\n"
    }
   },
   "outputs": [],
   "source": [
    "# The cache directories:\n",
    "cache_path       = '/Users/jh7685/Documents/Github/hcp-annot-vc-data/'\n",
    "image_cache_path = f'{cache_path}/annot-images'\n",
    "v123_cache_path  = f'{cache_path}/annot-v123'\n",
    "csulc_cache_path = f'{cache_path}/annot-csulc'\n",
    "trace_save_path = f'{cache_path}/hcp-annot-vc/save'\n",
    "labels_path = f'{cache_path}/results/labels'\n",
    "\n",
    "import os\n",
    "# If you aren't using /data\n",
    "os.environ['HCPANNOT_LOAD_PATH'] = cache_path"
   ]
  },
  {
   "cell_type": "code",
   "execution_count": 11,
   "metadata": {
    "pycharm": {
     "name": "#%%\n"
    }
   },
   "outputs": [
    {
     "name": "stdout",
     "output_type": "stream",
     "text": [
      "The autoreload extension is already loaded. To reload it, use:\n",
      "  %reload_ext autoreload\n"
     ]
    }
   ],
   "source": [
    "import os \n",
    "import sys\n",
    "sys.path.append('..')\n",
    "from visualization import plot_contours as vis\n",
    "%matplotlib inline\n",
    "%load_ext autoreload\n",
    "%autoreload 2"
   ]
  },
  {
   "cell_type": "markdown",
   "metadata": {},
   "source": [
    "## figure setting\n",
    "For some reason the only font family I could found was serif."
   ]
  },
  {
   "cell_type": "code",
   "execution_count": 12,
   "metadata": {},
   "outputs": [
    {
     "data": {
      "text/plain": "'/Users/jh7685/opt/miniconda3/envs/sfp/lib/python3.7/site-packages/matplotlib/mpl-data/fonts/ttf/DejaVuSansMono.ttf'"
     },
     "execution_count": 12,
     "metadata": {},
     "output_type": "execute_result"
    }
   ],
   "source": [
    "import pylab as pl\n",
    "la = pl.matplotlib.font_manager.FontManager()\n",
    "lu = pl.matplotlib.font_manager.FontProperties(family = 'monospace')\n",
    "la.findfont(lu)"
   ]
  },
  {
   "cell_type": "code",
   "execution_count": 13,
   "metadata": {
    "pycharm": {
     "name": "#%%\n"
    }
   },
   "outputs": [],
   "source": [
    "import matplotlib as mpl\n",
    "# Additional matplotlib preferences:\n",
    "font_data = {'size': 10,\n",
    "             'weight': 'light',\n",
    "            'family': 'monospace'} # missing fonts \n",
    "mpl.rc('font', **font_data) \n",
    "# we want relatively high-res images, especially when saving to disk.\n",
    "mpl.rcParams['figure.dpi'] = 72 * 2\n",
    "mpl.rcParams['savefig.dpi'] = 72 * 4"
   ]
  },
  {
   "cell_type": "code",
   "execution_count": 14,
   "metadata": {},
   "outputs": [],
   "source": [
    "# Now we can import the hcp-annot-vc library.\n",
    "import hcpannot\n",
    "hcpannot.interface.default_load_path = cache_path\n",
    "from hcpannot import (vc_plan,\n",
    "                      save_contours,\n",
    "                      load_contours,\n",
    "                      subject_ids)"
   ]
  },
  {
   "cell_type": "code",
   "execution_count": 15,
   "metadata": {},
   "outputs": [],
   "source": [
    "rater_list = ['BrendaQiu',\n",
    "              'bogengsong',\n",
    "              'JiyeongHa',\n",
    "              'lindazelinzhao',\n",
    "              'nourahboujaber',\n",
    "              'jennifertepan']"
   ]
  },
  {
   "cell_type": "markdown",
   "metadata": {},
   "source": [
    "## Helper functions for plotting mean contours across subjects"
   ]
  },
  {
   "cell_type": "code",
   "execution_count": 23,
   "outputs": [],
   "source": [
    "rater='JiyeongHa'\n",
    "sid=100610\n",
    "hemi='lh'\n",
    "roi='hV4'\n",
    "n_points=100\n",
    "cache_file = os.path.join(cache_path, 'traces', f\"contour-path_space-fsaverage_rater-{rater}_sid-{sid}_hemi-{hemi}_roi-{roi}_npoints-{n_points}.mgz\")"
   ],
   "metadata": {
    "collapsed": false,
    "pycharm": {
     "name": "#%%\n"
    }
   }
  },
  {
   "cell_type": "code",
   "execution_count": 20,
   "metadata": {},
   "outputs": [
    {
     "name": "stdout",
     "output_type": "stream",
     "text": [
      "181\n"
     ]
    },
    {
     "data": {
      "text/plain": "[239136, 195041, 180533]"
     },
     "execution_count": 20,
     "metadata": {},
     "output_type": "execute_result"
    }
   ],
   "source": [
    "from glob import glob\n",
    "jh_list = glob(os.path.join(trace_save_path, 'JiyeongHa/*/lh.hV4_VO1.json'))\n",
    "jh_subj_ids = [int(k.split('/')[-2]) for k in jh_list]\n",
    "print(len(jh_subj_ids))\n",
    "jh_subj_ids[:3]\n",
    "#ny.cortex - to plot flatten functional maps"
   ]
  },
  {
   "cell_type": "code",
   "execution_count": 24,
   "outputs": [
    {
     "name": "stdout",
     "output_type": "stream",
     "text": [
      "---------------------\n",
      "subject no.239136\n",
      "loading surface mesh....\n",
      "done! elpased time is 0.0 sec.\n",
      "Now converting trace to path...\n",
      "done! elpased time is 8.196 sec\n",
      "Now transforming the path to fsaverage space...\n",
      "done! elpased time is 3.895 sec.\n",
      "now interpolating the coordinates..\n",
      "subject no. 239136 is finished! Elapsed time: 12.09 sec\n"
     ]
    }
   ],
   "source": [
    "x, y = vis.make_trace('JiyeongHa',\n",
    "                       'lh',\n",
    "                       'hV4',\n",
    "                       jh_subj_ids[0],\n",
    "                       100,\n",
    "                       True,\n",
    "                       cache_file,\n",
    "                       trace_save_path)"
   ],
   "metadata": {
    "collapsed": false,
    "pycharm": {
     "name": "#%%\n"
    }
   }
  },
  {
   "cell_type": "code",
   "execution_count": 29,
   "outputs": [],
   "source": [],
   "metadata": {
    "collapsed": false,
    "pycharm": {
     "name": "#%%\n"
    }
   }
  },
  {
   "cell_type": "code",
   "execution_count": 30,
   "outputs": [
    {
     "data": {
      "text/plain": "[239136,\n 239136,\n 239136,\n 239136,\n 239136,\n 239136,\n 239136,\n 239136,\n 239136,\n 239136,\n 195041,\n 195041,\n 195041,\n 195041,\n 195041,\n 195041,\n 195041,\n 195041,\n 195041,\n 195041,\n 180533,\n 180533,\n 180533,\n 180533,\n 180533,\n 180533,\n 180533,\n 180533,\n 654552,\n 654552,\n 654552,\n 654552,\n 654552,\n 654552,\n 654552,\n 654552,\n 157336,\n 157336,\n 157336,\n 157336,\n 157336,\n 157336,\n 157336,\n 157336,\n 157336,\n 157336,\n 157336,\n 200210,\n 200210,\n 200210,\n 200210,\n 200210,\n 200210,\n 200210,\n 200210,\n 572045,\n 572045,\n 572045,\n 572045,\n 572045,\n 572045,\n 572045,\n 572045,\n 178142,\n 178142,\n 178142,\n 178142,\n 178142,\n 178142,\n 178142,\n 178142,\n 552241,\n 552241,\n 552241,\n 552241,\n 552241,\n 552241,\n 552241,\n 552241,\n 175237,\n 175237,\n 175237,\n 175237,\n 175237,\n 175237,\n 175237,\n 175237,\n 175237,\n 175237,\n 175237,\n 187345,\n 187345,\n 187345,\n 187345,\n 187345,\n 187345,\n 187345,\n 187345,\n 187345,\n 789373,\n 789373,\n 789373,\n 789373,\n 789373,\n 789373,\n 789373,\n 789373,\n 111514,\n 111514,\n 111514,\n 111514,\n 111514,\n 111514,\n 111514,\n 111514,\n 135124,\n 135124,\n 135124,\n 135124,\n 135124,\n 135124,\n 135124,\n 135124,\n 135124,\n 135124,\n 638049,\n 638049,\n 638049,\n 638049,\n 638049,\n 638049,\n 638049,\n 638049,\n 638049,\n 638049,\n 125525,\n 125525,\n 125525,\n 125525,\n 125525,\n 125525,\n 125525,\n 125525,\n 169747,\n 169747,\n 169747,\n 169747,\n 169747,\n 169747,\n 169747,\n 169747,\n 169747,\n 169747,\n 169747,\n 550439,\n 550439,\n 550439,\n 550439,\n 550439,\n 550439,\n 550439,\n 550439,\n 550439,\n 550439,\n 164636,\n 164636,\n 164636,\n 164636,\n 164636,\n 164636,\n 164636,\n 164636,\n 164636,\n 164636,\n 177645,\n 177645,\n 177645,\n 177645,\n 177645,\n 177645,\n 177645,\n 177645,\n 146937,\n 146937,\n 146937,\n 146937,\n 146937,\n 146937,\n 146937,\n 146937,\n 146937,\n 617748,\n 617748,\n 617748,\n 617748,\n 617748,\n 617748,\n 617748,\n 617748,\n 320826,\n 320826,\n 320826,\n 320826,\n 320826,\n 320826,\n 320826,\n 320826,\n 320826,\n 320826,\n 644246,\n 644246,\n 644246,\n 644246,\n 644246,\n 644246,\n 644246,\n 644246,\n 644246,\n 130114,\n 130114,\n 130114,\n 130114,\n 130114,\n 130114,\n 130114,\n 130114,\n 573249,\n 573249,\n 573249,\n 573249,\n 573249,\n 573249,\n 573249,\n 573249,\n 573249,\n 573249,\n 725751,\n 725751,\n 725751,\n 725751,\n 725751,\n 725751,\n 725751,\n 725751,\n 927359,\n 927359,\n 927359,\n 927359,\n 927359,\n 927359,\n 927359,\n 927359,\n 927359,\n 927359,\n 467351,\n 467351,\n 467351,\n 467351,\n 467351,\n 467351,\n 467351,\n 467351,\n 467351,\n 536647,\n 536647,\n 536647,\n 536647,\n 536647,\n 536647,\n 536647,\n 536647,\n 108323,\n 108323,\n 108323,\n 108323,\n 108323,\n 108323,\n 108323,\n 108323,\n 102816,\n 102816,\n 102816,\n 102816,\n 102816,\n 102816,\n 102816,\n 102816,\n 191336,\n 191336,\n 191336,\n 191336,\n 191336,\n 191336,\n 191336,\n 191336,\n 191336,\n 191336,\n 233326,\n 233326,\n 233326,\n 233326,\n 233326,\n 233326,\n 233326,\n 233326,\n 233326,\n 233326,\n 205220,\n 205220,\n 205220,\n 205220,\n 205220,\n 205220,\n 205220,\n 205220,\n 205220,\n 205220,\n 833249,\n 833249,\n 833249,\n 833249,\n 833249,\n 833249,\n 833249,\n 833249,\n 167440,\n 167440,\n 167440,\n 167440,\n 167440,\n 167440,\n 167440,\n 167440,\n 167440,\n 167440,\n 212419,\n 212419,\n 212419,\n 212419,\n 212419,\n 212419,\n 212419,\n 212419,\n 212419,\n 212419,\n 765864,\n 765864,\n 765864,\n 765864,\n 765864,\n 765864,\n 765864,\n 765864,\n 765864,\n 859671,\n 859671,\n 859671,\n 859671,\n 859671,\n 859671,\n 859671,\n 859671,\n 859671,\n 859671,\n 971160,\n 971160,\n 971160,\n 971160,\n 971160,\n 971160,\n 971160,\n 971160,\n 971160,\n 971160,\n 204521,\n 204521,\n 204521,\n 204521,\n 204521,\n 204521,\n 204521,\n 204521,\n 204521,\n 204521,\n 562345,\n 562345,\n 562345,\n 562345,\n 562345,\n 562345,\n 562345,\n 562345,\n 178243,\n 178243,\n 178243,\n 178243,\n 178243,\n 178243,\n 178243,\n 178243,\n 198653,\n 198653,\n 198653,\n 198653,\n 198653,\n 198653,\n 198653,\n 198653,\n 198653,\n 198653,\n 167036,\n 167036,\n 167036,\n 167036,\n 167036,\n 167036,\n 167036,\n 167036,\n 167036,\n 167036,\n 167036,\n 167036,\n 318637,\n 318637,\n 318637,\n 318637,\n 318637,\n 318637,\n 318637,\n 318637,\n 318637,\n 318637,\n 137128,\n 137128,\n 137128,\n 137128,\n 137128,\n 137128,\n 137128,\n 137128,\n 137128,\n 137128,\n 926862,\n 926862,\n 926862,\n 926862,\n 926862,\n 926862,\n 926862,\n 926862,\n 943862,\n 943862,\n 943862,\n 943862,\n 176542,\n 176542,\n 176542,\n 176542,\n 176542,\n 176542,\n 176542,\n 176542,\n 176542,\n 176542,\n 146129,\n 146129,\n 146129,\n 146129,\n 146129,\n 146129,\n 146129,\n 146129,\n 146129,\n 146129,\n 115017,\n 115017,\n 115017,\n 115017,\n 115017,\n 115017,\n 115017,\n 115017,\n 966975,\n 966975,\n 966975,\n 966975,\n 966975,\n 966975,\n 966975,\n 966975,\n 115825,\n 115825,\n 115825,\n 115825,\n 115825,\n 115825,\n 115825,\n 115825,\n 757764,\n 757764,\n 757764,\n 757764,\n 757764,\n 757764,\n 757764,\n 757764,\n 757764,\n 706040,\n 706040,\n 706040,\n 706040,\n 706040,\n 706040,\n 706040,\n 706040,\n 346137,\n 346137,\n 346137,\n 346137,\n 346137,\n 346137,\n 346137,\n 346137,\n 346137,\n 346137,\n 878877,\n 878877,\n 878877,\n 878877,\n 878877,\n 878877,\n 878877,\n 878877,\n 878877,\n 878877,\n 132118,\n 132118,\n 132118,\n 132118,\n 132118,\n 132118,\n 132118,\n 132118,\n 132118,\n 132118,\n 732243,\n 732243,\n 732243,\n 732243,\n 732243,\n 732243,\n 732243,\n 732243,\n 732243,\n 732243,\n 251833,\n 251833,\n 251833,\n 251833,\n 251833,\n 251833,\n 251833,\n 251833,\n 251833,\n 251833,\n 192641,\n 192641,\n 192641,\n 192641,\n 192641,\n 192641,\n 192641,\n 192641,\n 192641,\n 192641,\n 671855,\n 671855,\n 671855,\n 671855,\n 671855,\n 671855,\n 671855,\n 671855,\n 671855,\n 671855,\n 203418,\n 203418,\n 203418,\n 203418,\n 203418,\n 203418,\n 203418,\n 203418,\n 203418,\n 203418,\n 199655,\n 199655,\n 199655,\n 199655,\n 199655,\n 199655,\n 199655,\n 199655,\n 199655,\n 199655,\n 406836,\n 406836,\n 406836,\n 406836,\n 406836,\n 406836,\n 406836,\n 406836,\n 406836,\n 406836,\n 825048,\n 825048,\n 825048,\n 825048,\n 825048,\n 825048,\n 825048,\n 825048,\n 825048,\n 825048,\n 104416,\n 104416,\n 104416,\n 104416,\n 104416,\n 104416,\n 104416,\n 104416,\n 177746,\n 177746,\n 177746,\n 177746,\n 177746,\n 177746,\n 177746,\n 177746,\n 395756,\n 395756,\n 395756,\n 395756,\n 395756,\n 395756,\n 395756,\n 395756,\n 395756,\n 395756,\n 148133,\n 148133,\n 148133,\n 148133,\n 148133,\n 148133,\n 148133,\n 148133,\n 148133,\n 148133,\n 164131,\n 164131,\n 164131,\n 164131,\n 164131,\n 164131,\n 164131,\n 164131,\n 164131,\n 164131,\n 871762,\n 871762,\n 871762,\n 871762,\n 871762,\n 871762,\n 871762,\n 871762,\n 871762,\n 871762,\n 169040,\n 169040,\n 169040,\n 169040,\n 169040,\n 169040,\n 169040,\n 169040,\n 169040,\n 401422,\n 401422,\n 401422,\n 401422,\n 401422,\n 401422,\n 401422,\n 401422,\n 401422,\n 401422,\n 330324,\n 330324,\n 330324,\n 330324,\n 330324,\n 330324,\n 330324,\n 330324,\n 360030,\n 360030,\n 360030,\n 360030,\n 360030,\n 360030,\n 360030,\n 360030,\n 360030,\n 360030,\n 181232,\n 181232,\n 181232,\n 181232,\n 181232,\n 181232,\n 181232,\n 181232,\n 114823,\n 114823,\n 114823,\n 114823,\n 114823,\n 114823,\n 114823,\n 114823,\n 283543,\n 283543,\n 283543,\n 283543,\n 283543,\n 283543,\n 283543,\n 283543,\n 283543,\n 581450,\n 581450,\n 581450,\n 581450,\n 581450,\n 581450,\n 581450,\n 581450,\n 581450,\n 182436,\n 182436,\n 182436,\n 182436,\n 182436,\n 182436,\n 182436,\n 182436,\n 182436,\n 182436,\n 182436,\n 105923,\n 105923,\n 105923,\n 105923,\n 105923,\n 105923,\n 105923,\n 105923,\n 872764,\n 872764,\n 872764,\n 872764,\n 872764,\n 872764,\n 872764,\n 872764,\n 380036,\n 380036,\n 380036,\n 380036,\n 380036,\n 380036,\n 380036,\n 380036,\n 751550,\n 751550,\n 751550,\n 751550,\n 751550,\n 751550,\n 751550,\n 751550,\n 751550,\n 751550,\n 145834,\n 145834,\n 145834,\n 145834,\n 145834,\n 145834,\n 145834,\n 145834,\n 145834,\n 145834,\n 145834,\n 159239,\n 159239,\n 159239,\n 159239,\n 159239,\n 159239,\n 159239,\n 159239,\n 159239,\n 771354,\n 771354,\n 771354,\n 771354,\n 771354,\n 771354,\n 771354,\n 771354,\n 140117,\n 140117,\n 140117,\n 140117,\n 140117,\n 140117,\n 140117,\n 140117,\n 140117,\n 140117,\n 131722,\n 131722,\n 131722,\n 131722,\n 131722,\n 131722,\n 131722,\n 131722,\n 131722,\n 131722,\n 109123,\n 109123,\n 109123,\n 109123,\n 109123,\n 109123,\n 109123,\n 109123,\n 393247,\n 393247,\n 393247,\n 393247,\n 393247,\n 393247,\n 393247,\n 393247,\n 393247,\n 393247,\n 171633,\n 171633,\n 171633,\n 171633,\n 171633,\n 171633,\n 171633,\n 171633,\n 171633,\n 463040,\n 463040,\n 463040,\n 463040,\n 463040,\n 463040,\n 463040,\n 463040,\n 782561,\n 782561,\n 782561,\n 782561,\n 782561,\n 782561,\n 782561,\n 782561,\n 782561,\n 782561,\n 951457,\n 951457,\n 951457,\n 951457,\n 951457,\n 951457,\n 951457,\n 951457,\n 951457,\n 951457,\n 958976,\n 958976,\n 958976,\n 958976,\n 958976,\n 958976,\n 958976,\n 958976,\n 436845,\n 436845,\n 436845,\n 436845,\n 436845,\n 436845,\n 436845,\n 436845,\n 436845,\n 436845,\n 173334,\n 173334,\n 173334,\n 173334,\n 173334,\n 173334,\n 173334,\n 173334,\n 173334,\n 173334,\n 173334,\n 173334,\n 197348,\n 197348,\n 197348,\n 197348,\n 197348,\n 197348,\n 197348,\n 197348,\n 905147,\n 905147,\n 905147,\n 905147,\n 905147,\n 905147,\n 905147,\n 905147,\n 165436,\n 165436,\n 165436,\n 165436,\n 165436,\n 165436,\n 165436,\n 165436,\n 165436,\n 165436,\n 192439,\n 192439,\n 192439,\n 192439,\n 192439,\n 192439,\n 192439,\n 192439,\n 192439,\n 192439,\n 525541,\n 525541,\n 525541,\n 525541,\n 525541,\n 525541,\n 525541,\n 525541,\n 525541,\n 111312,\n 111312,\n 111312,\n 111312,\n 111312,\n 111312,\n 111312,\n 111312,\n 214019,\n 214019,\n 214019,\n 214019,\n 214019,\n 214019,\n 214019,\n 214019,\n 214019,\n 214019,\n 191841,\n 191841,\n 191841,\n 191841,\n 191841,\n 191841,\n 191841,\n ...]"
     },
     "execution_count": 30,
     "metadata": {},
     "output_type": "execute_result"
    }
   ],
   "source": [
    "vis.get_contour_list_drawn_by_rater(trace_save_path, '*', '*', 'JiyeongHa')"
   ],
   "metadata": {
    "collapsed": false,
    "pycharm": {
     "name": "#%%\n"
    }
   }
  },
  {
   "cell_type": "markdown",
   "source": [
    "## Plot functions"
   ],
   "metadata": {
    "collapsed": false
   }
  },
  {
   "cell_type": "code",
   "execution_count": 23,
   "outputs": [],
   "source": [],
   "metadata": {
    "collapsed": false,
    "pycharm": {
     "name": "#%%\n"
    }
   }
  },
  {
   "cell_type": "markdown",
   "source": [
    "## Test"
   ],
   "metadata": {
    "collapsed": false
   }
  },
  {
   "cell_type": "markdown",
   "source": [
    "had to fork neuropythy & git clone the fork and pip install -e . and then edit all np.object to object.\n",
    "Downgrading numpy==1.25.5 or the version listed on the neuropythy document was not successful due to another error on the top importing ipython-related packages"
   ],
   "metadata": {
    "collapsed": false
   }
  },
  {
   "cell_type": "code",
   "execution_count": 38,
   "metadata": {},
   "outputs": [
    {
     "name": "stdout",
     "output_type": "stream",
     "text": [
      "**number of subjects: 30\n",
      "**nuber of points:600\n"
     ]
    },
    {
     "data": {
      "application/vnd.jupyter.widget-view+json": {
       "model_id": "b5c2b70b1653414ebaeffb4b06bebb67",
       "version_major": 2,
       "version_minor": 0
      },
      "text/plain": [
       "  0%|          | 0/30 [00:00<?, ?it/s]"
      ]
     },
     "metadata": {},
     "output_type": "display_data"
    },
    {
     "name": "stdout",
     "output_type": "stream",
     "text": [
      "---------------------\n",
      "subject no.176542\n",
      "loading surface mesh....\n",
      "done! elpased time is 0.707 sec.\n",
      "Now converting trace to path...\n",
      "done! elpased time is 9.653 sec\n",
      "Now transforming the path to fsaverage space...\n",
      "done! elpased time is 1.37 sec.\n",
      "now interpolating the coordinates..\n",
      "subject no. 176542 is finished! Total time: 11.74 sec\n",
      "---------------------\n",
      "subject no.927359\n",
      "loading surface mesh....\n",
      "done! elpased time is 0.681 sec.\n",
      "Now converting trace to path...\n",
      "done! elpased time is 44.959 sec\n",
      "Now transforming the path to fsaverage space...\n",
      "done! elpased time is 1.691 sec.\n",
      "now interpolating the coordinates..\n",
      "subject no. 927359 is finished! Total time: 47.34 sec\n",
      "---------------------\n",
      "subject no.146735\n",
      "loading surface mesh....\n",
      "done! elpased time is 0.636 sec.\n",
      "Now converting trace to path...\n",
      "done! elpased time is 7.864 sec\n",
      "Now transforming the path to fsaverage space...\n",
      "done! elpased time is 1.101 sec.\n",
      "now interpolating the coordinates..\n",
      "subject no. 146735 is finished! Total time: 9.6 sec\n",
      "---------------------\n",
      "subject no.395756\n",
      "loading surface mesh....\n",
      "done! elpased time is 0.701 sec.\n",
      "Now converting trace to path...\n",
      "done! elpased time is 48.021 sec\n",
      "Now transforming the path to fsaverage space...\n",
      "done! elpased time is 1.48 sec.\n",
      "now interpolating the coordinates..\n",
      "subject no. 395756 is finished! Total time: 50.21 sec\n",
      "---------------------\n",
      "subject no.132118\n",
      "loading surface mesh....\n",
      "done! elpased time is 0.68 sec.\n",
      "Now converting trace to path...\n",
      "done! elpased time is 10.543 sec\n",
      "Now transforming the path to fsaverage space...\n",
      "done! elpased time is 1.385 sec.\n",
      "now interpolating the coordinates..\n",
      "subject no. 132118 is finished! Total time: 12.61 sec\n",
      "---------------------\n",
      "subject no.169040\n",
      "loading surface mesh....\n",
      "done! elpased time is 0.689 sec.\n",
      "Now converting trace to path...\n",
      "done! elpased time is 54.006 sec\n",
      "Now transforming the path to fsaverage space...\n",
      "done! elpased time is 1.487 sec.\n",
      "now interpolating the coordinates..\n",
      "subject no. 169040 is finished! Total time: 56.19 sec\n",
      "---------------------\n",
      "subject no.180533\n",
      "loading surface mesh....\n",
      "done! elpased time is 0.694 sec.\n",
      "Now converting trace to path...\n",
      "done! elpased time is 11.219 sec\n",
      "Now transforming the path to fsaverage space...\n",
      "done! elpased time is 1.609 sec.\n",
      "now interpolating the coordinates..\n",
      "subject no. 180533 is finished! Total time: 13.53 sec\n",
      "---------------------\n",
      "subject no.158136\n",
      "loading surface mesh....\n",
      "done! elpased time is 0.686 sec.\n",
      "Now converting trace to path...\n",
      "done! elpased time is 59.159 sec\n",
      "Now transforming the path to fsaverage space...\n",
      "done! elpased time is 1.357 sec.\n",
      "now interpolating the coordinates..\n",
      "subject no. 158136 is finished! Total time: 61.21 sec\n",
      "---------------------\n",
      "subject no.814649\n",
      "loading surface mesh....\n",
      "done! elpased time is 0.691 sec.\n",
      "Now converting trace to path...\n",
      "done! elpased time is 11.584 sec\n",
      "Now transforming the path to fsaverage space...\n",
      "done! elpased time is 1.682 sec.\n",
      "now interpolating the coordinates..\n",
      "subject no. 814649 is finished! Total time: 13.96 sec\n",
      "---------------------\n",
      "subject no.200311\n",
      "loading surface mesh....\n",
      "done! elpased time is 0.69 sec.\n",
      "Now converting trace to path...\n",
      "done! elpased time is 10.336 sec\n",
      "Now transforming the path to fsaverage space...\n",
      "done! elpased time is 1.391 sec.\n",
      "now interpolating the coordinates..\n",
      "subject no. 200311 is finished! Total time: 12.42 sec\n",
      "---------------------\n",
      "subject no.770352\n",
      "loading surface mesh....\n",
      "done! elpased time is 0.687 sec.\n",
      "Now converting trace to path...\n",
      "done! elpased time is 66.128 sec\n",
      "Now transforming the path to fsaverage space...\n",
      "done! elpased time is 1.376 sec.\n",
      "now interpolating the coordinates..\n",
      "subject no. 770352 is finished! Total time: 68.2 sec\n",
      "---------------------\n",
      "subject no.771354\n",
      "loading surface mesh....\n",
      "done! elpased time is 0.684 sec.\n",
      "Now converting trace to path...\n",
      "done! elpased time is 10.803 sec\n",
      "Now transforming the path to fsaverage space...\n",
      "done! elpased time is 1.564 sec.\n",
      "now interpolating the coordinates..\n",
      "subject no. 771354 is finished! Total time: 13.06 sec\n",
      "---------------------\n",
      "subject no.214524\n",
      "loading surface mesh....\n",
      "done! elpased time is 0.683 sec.\n",
      "Now converting trace to path...\n",
      "done! elpased time is 10.896 sec\n",
      "Now transforming the path to fsaverage space...\n",
      "done! elpased time is 1.445 sec.\n",
      "now interpolating the coordinates..\n",
      "subject no. 214524 is finished! Total time: 13.03 sec\n",
      "---------------------\n",
      "subject no.724446\n",
      "loading surface mesh....\n",
      "done! elpased time is 0.681 sec.\n",
      "Now converting trace to path...\n",
      "done! elpased time is 75.948 sec\n",
      "Now transforming the path to fsaverage space...\n",
      "done! elpased time is 1.605 sec.\n",
      "now interpolating the coordinates..\n",
      "subject no. 724446 is finished! Total time: 78.24 sec\n",
      "---------------------\n",
      "subject no.130518\n",
      "loading surface mesh....\n",
      "done! elpased time is 0.665 sec.\n",
      "Now converting trace to path...\n",
      "done! elpased time is 8.781 sec\n",
      "Now transforming the path to fsaverage space...\n",
      "done! elpased time is 1.215 sec.\n",
      "now interpolating the coordinates..\n",
      "subject no. 130518 is finished! Total time: 10.67 sec\n",
      "---------------------\n",
      "subject no.901139\n",
      "loading surface mesh....\n",
      "done! elpased time is 0.699 sec.\n",
      "Now converting trace to path...\n",
      "done! elpased time is 10.865 sec\n",
      "Now transforming the path to fsaverage space...\n",
      "done! elpased time is 1.543 sec.\n",
      "now interpolating the coordinates..\n",
      "subject no. 901139 is finished! Total time: 13.11 sec\n",
      "---------------------\n",
      "subject no.186949\n",
      "loading surface mesh....\n",
      "done! elpased time is 0.703 sec.\n",
      "Now converting trace to path...\n",
      "done! elpased time is 10.775 sec\n",
      "Now transforming the path to fsaverage space...\n",
      "done! elpased time is 75.191 sec.\n",
      "now interpolating the coordinates..\n",
      "subject no. 186949 is finished! Total time: 86.67 sec\n",
      "---------------------\n",
      "subject no.181232\n",
      "loading surface mesh....\n",
      "done! elpased time is 0.67 sec.\n",
      "Now converting trace to path...\n",
      "done! elpased time is 9.95 sec\n",
      "Now transforming the path to fsaverage space...\n",
      "done! elpased time is 1.298 sec.\n",
      "now interpolating the coordinates..\n",
      "subject no. 181232 is finished! Total time: 11.92 sec\n",
      "---------------------\n",
      "subject no.878776\n",
      "loading surface mesh....\n",
      "done! elpased time is 0.693 sec.\n",
      "Now converting trace to path...\n",
      "done! elpased time is 13.053 sec\n",
      "Now transforming the path to fsaverage space...\n",
      "done! elpased time is 1.649 sec.\n",
      "now interpolating the coordinates..\n",
      "subject no. 878776 is finished! Total time: 15.4 sec\n",
      "---------------------\n",
      "subject no.926862\n",
      "loading surface mesh....\n",
      "done! elpased time is 0.67 sec.\n",
      "Now converting trace to path...\n",
      "done! elpased time is 11.436 sec\n",
      "Now transforming the path to fsaverage space...\n",
      "done! elpased time is 1.605 sec.\n",
      "now interpolating the coordinates..\n",
      "subject no. 926862 is finished! Total time: 13.71 sec\n",
      "---------------------\n",
      "subject no.436845\n",
      "loading surface mesh....\n",
      "done! elpased time is 0.683 sec.\n",
      "Now converting trace to path...\n",
      "done! elpased time is 94.152 sec\n",
      "Now transforming the path to fsaverage space...\n",
      "done! elpased time is 1.417 sec.\n",
      "now interpolating the coordinates..\n",
      "subject no. 436845 is finished! Total time: 96.26 sec\n",
      "---------------------\n",
      "subject no.572045\n",
      "loading surface mesh....\n",
      "done! elpased time is 0.678 sec.\n",
      "Now converting trace to path...\n",
      "done! elpased time is 9.304 sec\n",
      "Now transforming the path to fsaverage space...\n",
      "done! elpased time is 1.068 sec.\n",
      "now interpolating the coordinates..\n",
      "subject no. 572045 is finished! Total time: 11.05 sec\n",
      "---------------------\n",
      "subject no.638049\n",
      "loading surface mesh....\n",
      "done! elpased time is 0.674 sec.\n",
      "Now converting trace to path...\n",
      "done! elpased time is 10.975 sec\n",
      "Now transforming the path to fsaverage space...\n",
      "done! elpased time is 1.488 sec.\n",
      "now interpolating the coordinates..\n",
      "subject no. 638049 is finished! Total time: 13.14 sec\n",
      "---------------------\n",
      "subject no.165436\n",
      "loading surface mesh....\n",
      "done! elpased time is 0.705 sec.\n",
      "Now converting trace to path...\n",
      "done! elpased time is 11.161 sec\n",
      "Now transforming the path to fsaverage space...\n",
      "done! elpased time is 1.477 sec.\n",
      "now interpolating the coordinates..\n",
      "subject no. 165436 is finished! Total time: 13.35 sec\n",
      "---------------------\n",
      "subject no.751550\n",
      "loading surface mesh....\n",
      "done! elpased time is 0.689 sec.\n",
      "Now converting trace to path...\n",
      "done! elpased time is 10.355 sec\n",
      "Now transforming the path to fsaverage space...\n"
     ]
    },
    {
     "name": "stdout",
     "output_type": "stream",
     "text": [
      "done! elpased time is 1.413 sec.\n",
      "now interpolating the coordinates..\n",
      "subject no. 751550 is finished! Total time: 12.46 sec\n",
      "---------------------\n",
      "subject no.671855\n",
      "loading surface mesh....\n",
      "done! elpased time is 0.68 sec.\n",
      "Now converting trace to path...\n",
      "done! elpased time is 105.02 sec\n",
      "Now transforming the path to fsaverage space...\n",
      "done! elpased time is 1.529 sec.\n",
      "now interpolating the coordinates..\n",
      "subject no. 671855 is finished! Total time: 107.23 sec\n",
      "---------------------\n",
      "subject no.164636\n",
      "loading surface mesh....\n",
      "done! elpased time is 0.665 sec.\n",
      "Now converting trace to path...\n",
      "done! elpased time is 10.916 sec\n",
      "Now transforming the path to fsaverage space...\n",
      "done! elpased time is 1.534 sec.\n",
      "now interpolating the coordinates..\n",
      "subject no. 164636 is finished! Total time: 13.12 sec\n",
      "---------------------\n",
      "subject no.169444\n",
      "loading surface mesh....\n",
      "done! elpased time is 0.669 sec.\n",
      "Now converting trace to path...\n",
      "done! elpased time is 9.531 sec\n",
      "Now transforming the path to fsaverage space...\n",
      "done! elpased time is 1.298 sec.\n",
      "now interpolating the coordinates..\n",
      "subject no. 169444 is finished! Total time: 11.51 sec\n",
      "---------------------\n",
      "subject no.878877\n",
      "loading surface mesh....\n",
      "done! elpased time is 0.706 sec.\n",
      "Now converting trace to path...\n",
      "done! elpased time is 10.919 sec\n",
      "Now transforming the path to fsaverage space...\n",
      "done! elpased time is 1.481 sec.\n",
      "now interpolating the coordinates..\n",
      "subject no. 878877 is finished! Total time: 13.11 sec\n",
      "---------------------\n",
      "subject no.826353\n",
      "loading surface mesh....\n",
      "done! elpased time is 0.682 sec.\n",
      "Now converting trace to path...\n",
      "done! elpased time is 9.991 sec\n",
      "Now transforming the path to fsaverage space...\n",
      "done! elpased time is 1.365 sec.\n",
      "now interpolating the coordinates..\n",
      "subject no. 826353 is finished! Total time: 12.04 sec\n"
     ]
    }
   ],
   "source": [
    "rater = 'JiyeongHa'\n",
    "normed_fsa_coords_dict = main(rater=rater, \n",
    "                              roi='hV4', \n",
    "                              subject_list=jh_subj_ids[:30], \n",
    "                              hemi='lh', \n",
    "                              n_points=600, \n",
    "                              verbose=True,\n",
    "                              trace_save_path=trace_save_path)"
   ]
  },
  {
   "cell_type": "markdown",
   "metadata": {},
   "source": [
    "## Plot"
   ]
  },
  {
   "cell_type": "code",
   "execution_count": 39,
   "metadata": {},
   "outputs": [
    {
     "data": {
      "image/png": "[encoded data removed]",
      "text/plain": [
       "<Figure size 432x288 with 1 Axes>"
      ]
     },
     "metadata": {
      "needs_background": "light"
     },
     "output_type": "display_data"
    }
   ],
   "source": [
    "plot_multiple_traces(normed_fsa_coords_dict, \n",
    "                     average_only=False, \n",
    "                     title=rater)"
   ]
  },
  {
   "cell_type": "markdown",
   "metadata": {},
   "source": [
    "## for savings.."
   ]
  }
 ],
 "metadata": {
  "kernelspec": {
   "name": "python3",
   "language": "python",
   "display_name": "Python 3 (ipykernel)"
  },
  "language_info": {
   "codemirror_mode": {
    "name": "ipython",
    "version": 3
   },
   "file_extension": ".py",
   "mimetype": "text/x-python",
   "name": "python",
   "nbconvert_exporter": "python",
   "pygments_lexer": "ipython3",
   "version": "3.8.13"
  }
 },
 "nbformat": 4,
 "nbformat_minor": 1
}